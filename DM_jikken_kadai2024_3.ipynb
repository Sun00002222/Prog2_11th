{
  "nbformat": 4,
  "nbformat_minor": 0,
  "metadata": {
    "colab": {
      "provenance": [],
      "include_colab_link": true
    },
    "kernelspec": {
      "name": "python3",
      "display_name": "Python 3"
    },
    "language_info": {
      "name": "python"
    }
  },
  "cells": [
    {
      "cell_type": "markdown",
      "metadata": {
        "id": "view-in-github",
        "colab_type": "text"
      },
      "source": [
        "<a href=\"https://colab.research.google.com/github/Sun00002222/Prog2_11th/blob/main/DM_jikken_kadai2024_3.ipynb\" target=\"_parent\"><img src=\"https://colab.research.google.com/assets/colab-badge.svg\" alt=\"Open In Colab\"/></a>"
      ]
    },
    {
      "cell_type": "markdown",
      "source": [
        "# 知能工学実験IV　第3回　演習課題\n",
        "- 自然言語処理プログラミング  \n",
        "- ファイル入出力と英語テキストの解析\n",
        "\n",
        "まず，メニューの「ファイル」-「ドライブにコピーを保存」を選択し，自分のGoogleドライブにファイルを保存すること"
      ],
      "metadata": {
        "id": "MdVWseIodv2m"
      }
    },
    {
      "cell_type": "markdown",
      "source": [
        "---\n",
        "### (0)使用するライブラリの準備\n",
        "まず実験で使用するライブラリをインポートします。"
      ],
      "metadata": {
        "id": "vOKfUSetdztz"
      }
    },
    {
      "cell_type": "code",
      "execution_count": null,
      "metadata": {
        "id": "MJffvs-odvHd"
      },
      "outputs": [],
      "source": [
        "import string\n",
        "from wordcloud import WordCloud\n",
        "import pandas as pd\n",
        "import matplotlib.pyplot as plt"
      ]
    },
    {
      "cell_type": "code",
      "source": [
        "!pip install japanize-matplotlib"
      ],
      "metadata": {
        "id": "7X32oqkQeIEf"
      },
      "execution_count": null,
      "outputs": []
    },
    {
      "cell_type": "code",
      "source": [
        "import japanize_matplotlib\n",
        "plt.rcParams['font.family'] = 'IPAPGothic'\n",
        "japanize_matplotlib.japanize()"
      ],
      "metadata": {
        "id": "uHt9T073eELu"
      },
      "execution_count": null,
      "outputs": []
    },
    {
      "cell_type": "markdown",
      "source": [
        "課題に使用する英文ファイルを保存します。  \n",
        "次のセルを実行し、alice.txtとbohemia.txtを自分のドライブに保存してください。"
      ],
      "metadata": {
        "id": "RO4D6MeZeQgp"
      }
    },
    {
      "cell_type": "code",
      "source": [
        "!wget \"https://drive.google.com/uc?export=download&id=1nieoCzRQ1jKEStc3_BYK0bSsBfMK_Kly\" -O alice.txt"
      ],
      "metadata": {
        "id": "dGcp6fKOeS9p"
      },
      "execution_count": null,
      "outputs": []
    },
    {
      "cell_type": "code",
      "source": [
        "!wget \"https://drive.google.com/uc?export=download&id=1Q6jM-0kCdwxNrCo_LlxbyIU7m2DYcYOi\" -O bohemia.txt"
      ],
      "metadata": {
        "id": "YP4PnudNexhJ"
      },
      "execution_count": null,
      "outputs": []
    },
    {
      "cell_type": "markdown",
      "source": [
        "---\n",
        "### 演習(1)\n",
        "解説ファイルを参考に、英文ファイル名と上位数kを入力したときに、  \n",
        "その英文ファイル（filename）に含まれる頻度上位k個の単語と出現回数のペアのデータフレームを返す関数  \n",
        "word_freq(filename, k)を作成しましょう。  \n",
        "ただしk=0のときは，全ての単語とその出現回数のペアのデータフレームを返すものとします。"
      ],
      "metadata": {
        "id": "7dBkarFFe7FK"
      }
    },
    {
      "cell_type": "code",
      "source": [
        "def word_freq(filename,k=0):\n",
        "    #関数の中身を作成する\n"
      ],
      "metadata": {
        "id": "47LYo4dwe-zg"
      },
      "execution_count": null,
      "outputs": []
    },
    {
      "cell_type": "markdown",
      "source": [
        "word_freq()が完成したら，次のプログラムを実行してテストしましょう．"
      ],
      "metadata": {
        "id": "A_UohhtYfTik"
      }
    },
    {
      "cell_type": "code",
      "source": [
        "#このセルはこのまま実行する\n",
        "alice_freq = word_freq(\"alice.txt\",20)\n",
        "alice_freq"
      ],
      "metadata": {
        "id": "Zus_eHmhfVRg"
      },
      "execution_count": null,
      "outputs": []
    },
    {
      "cell_type": "code",
      "source": [
        "#このセルはこのまま実行する\n",
        "bohemia_freq = word_freq(\"bohemia.txt\",10)\n",
        "bohemia_freq"
      ],
      "metadata": {
        "id": "KrQjMGU9fYk1"
      },
      "execution_count": null,
      "outputs": []
    },
    {
      "cell_type": "markdown",
      "source": [
        "---\n",
        "### 演習(2)\n",
        "ジップ(Zip)の法則とは「n番目に多くあらわれる事象は，全体に占める割合が1/nに比例する」  \n",
        "という法則である。\n",
        "事象の頻度とその順位との積が一定となるということは、  \n",
        "出現回数と順位を両対数グラフで表すと傾きが１の直線上に並ぶということである。  \n",
        "テキスト中に現れる語句と出現回数とその順位にこの関係が性質するか調べる。  \n",
        "  \n",
        "英文テキスト（filename）が与えられたときに上位k個の単語がジップの法則を確認する，  \n",
        "つまりテキストの出現回数とその順位を両対数グラフで表すための関数  \n",
        "plot_zip_law(filename,k)を作成しましょう。  \n",
        "テキストの出現回数をY軸，その順位をX軸とし両対数グラフで表します。  \n",
        "ただしk=0のときは，全ての単語を対象にします。"
      ],
      "metadata": {
        "id": "kb40AdlNfe4k"
      }
    },
    {
      "cell_type": "code",
      "source": [
        "def plot_zip_law(filename,k=0):\n",
        "  #関数の中身を作成する\n",
        "\n",
        "\n",
        "\n",
        "  plt.show()"
      ],
      "metadata": {
        "id": "cTjywYs2fhyG"
      },
      "execution_count": null,
      "outputs": []
    },
    {
      "cell_type": "markdown",
      "source": [
        "plot_zip_law()が完成したら，次のプログラムを実行してテストしましょう．"
      ],
      "metadata": {
        "id": "vV3YlLD-flYF"
      }
    },
    {
      "cell_type": "code",
      "source": [
        "#このセルはこのまま実行する\n",
        "plot_zip_law(\"alice.txt\")"
      ],
      "metadata": {
        "id": "HbC9cdxTfmg7"
      },
      "execution_count": null,
      "outputs": []
    },
    {
      "cell_type": "code",
      "source": [
        "#このセルはこのまま実行する\n",
        "plot_zip_law(\"bohemia.txt\")"
      ],
      "metadata": {
        "id": "W1CY3wJqfxMt"
      },
      "execution_count": null,
      "outputs": []
    },
    {
      "cell_type": "markdown",
      "source": [
        "---\n",
        "### 演習(3)\n",
        "解説ファイルを参考に，英文ファイルを入力したときに、  \n",
        "そのファイルの単語を小文字に変換したうえで，ワードクラウドを表示する関数  \n",
        "disp_wordcloud(filename,stop_word =[],random_seed = 1)を作成しましょう。"
      ],
      "metadata": {
        "id": "uZYEozTnhsOU"
      }
    },
    {
      "cell_type": "code",
      "source": [
        "def disp_wordcloud(filename, stop_word = [], random_seed = 1):\n",
        "  #関数の中身を作成する\n",
        "\n",
        "  plt.show()"
      ],
      "metadata": {
        "id": "WOeDw_eBhu1h"
      },
      "execution_count": null,
      "outputs": []
    },
    {
      "cell_type": "markdown",
      "source": [
        "disp_wordcloud()が完成したら，次のプログラムを実行してテストしましょう。"
      ],
      "metadata": {
        "id": "pDG15ZArh6Bp"
      }
    },
    {
      "cell_type": "code",
      "source": [
        "#このセルはこのまま実行する\n",
        "disp_wordcloud(\"alice.txt\")"
      ],
      "metadata": {
        "id": "-_4dcxNwh7TU"
      },
      "execution_count": null,
      "outputs": []
    },
    {
      "cell_type": "code",
      "source": [
        "#このセルはこのまま実行する\n",
        "disp_wordcloud(\"bohemia.txt\")"
      ],
      "metadata": {
        "id": "kukhS-4vh-6l"
      },
      "execution_count": null,
      "outputs": []
    },
    {
      "cell_type": "markdown",
      "source": [
        "---\n",
        "### 演習(4)\n",
        "alice.txtの上位30個の単語とbohemia.txtの上位30個の単語に共通する単語を集めるプログラムを作成しましょう。  \n",
        "まずalice.txtの上位30個の単語リストalice_freq_wordを作ります。"
      ],
      "metadata": {
        "id": "7NuSFr7niBa6"
      }
    },
    {
      "cell_type": "code",
      "source": [
        "#alice_freq_wordを計算する\n",
        "\n",
        "\n",
        "print(alice_freq_word)"
      ],
      "metadata": {
        "id": "aH0Ka6uqiFV_"
      },
      "execution_count": null,
      "outputs": []
    },
    {
      "cell_type": "markdown",
      "source": [
        "次にbohemia.txtの上位30個の単語のリストbohemia_freq_wordを作ります。"
      ],
      "metadata": {
        "id": "O5OgwVV6ijXC"
      }
    },
    {
      "cell_type": "code",
      "source": [
        "#bohemia_freq_wordを計算する\n",
        "\n",
        "\n",
        "print(bohemia_freq_word)"
      ],
      "metadata": {
        "id": "FQhw1UEPiksI"
      },
      "execution_count": null,
      "outputs": []
    },
    {
      "cell_type": "markdown",
      "source": [
        "alice_freq_wordとbohemia_freq_wordに共通する単語を集めたリストcommon_freq_wordを作ります。  \n",
        "2つの作品に共通する単語は，普通の英文によく出現する単語だと考えられます。"
      ],
      "metadata": {
        "id": "Sv4uzYR3inue"
      }
    },
    {
      "cell_type": "code",
      "source": [
        "#common_freq_wordを計算する\n",
        "\n",
        "\n",
        "print(common_freq_word)"
      ],
      "metadata": {
        "id": "29mdAxJai-Zg"
      },
      "execution_count": null,
      "outputs": []
    },
    {
      "cell_type": "markdown",
      "source": [
        "共通する単語（common_freq_word）をstop_wordに代入し，disp_wordcloud()を実行しましょう．"
      ],
      "metadata": {
        "id": "xjDecfkIkFst"
      }
    },
    {
      "cell_type": "code",
      "source": [
        "#このセルはこのまま実行する\n",
        "stop_word = common_freq_word\n",
        "random_seed = 100;\n",
        "disp_wordcloud(\"alice.txt\", stop_word, random_seed)"
      ],
      "metadata": {
        "id": "_GsFXHdkkHLP"
      },
      "execution_count": null,
      "outputs": []
    },
    {
      "cell_type": "code",
      "source": [
        "#このセルはこのまま実行する\n",
        "stop_word = common_freq_word\n",
        "random_seed = 100;\n",
        "disp_wordcloud(\"bohemia.txt\", stop_word, random_seed)"
      ],
      "metadata": {
        "id": "cVg2ikJokXI7"
      },
      "execution_count": null,
      "outputs": []
    },
    {
      "cell_type": "markdown",
      "source": [
        "---\n",
        "### 演習(5) （オプション）\n",
        "stop_wordを自分で工夫することで，より良い（と思う）ワードクラウドを作ることができます。  \n",
        "英文のストップワードについて調べ，それを自分で設定してワードクラウドを作ってみましょう。  \n",
        "またrandom_seedを変更することでワードクラウドの見た目が変わります。  \n",
        "色々工夫してより良いと思うワードクラウドを作りましょう。"
      ],
      "metadata": {
        "id": "u1GwJpzPkaiE"
      }
    },
    {
      "cell_type": "code",
      "source": [
        "#ストップワードについて調べたことや，工夫したことを文章で書いてください。\n",
        "###\n",
        "###　ここに書く（必要に応じて行を増やして構いません）\n",
        "###\n",
        "\n",
        "#各自で工夫をしてstop_wordを設定すること（１行で書く必要はない）\n",
        "stop_word =\n",
        "#random_seedは自分が見た目がよいと思う値を指定すること\n",
        "random_seed =\n",
        "disp_wordcloud(\"alice.txt\", stop_word, random_seed)"
      ],
      "metadata": {
        "id": "UZpCjgMBkfuB"
      },
      "execution_count": null,
      "outputs": []
    },
    {
      "cell_type": "markdown",
      "source": [
        "---\n",
        "### 【重要】演習課題の提出\n",
        "以下の手順で演習課題を提出すること。\n",
        "\n",
        "メニューの「ファイル」-「ドライブにコピーを保存」を選択し、自分のGoogleドライブに課題を保存する。  \n",
        "メニューの「ファイル」-「ダウンロード」-「.ipynbファイルをダウンロード」を選択し、  \n",
        "提出用ファイル(DM-jikken-kadai2024_3.ipynb_のコピー.ipynb)をダウンロードする。  \n",
        "ファイル名を「(学籍番号)-3.ipynb」(学籍番号が2320999なら 2320999-3.ipynb）に変更し、UNIPAに提出する。"
      ],
      "metadata": {
        "id": "nzB7r3zFkhCb"
      }
    }
  ]
}